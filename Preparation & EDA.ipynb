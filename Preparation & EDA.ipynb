{
 "cells": [
  {
   "cell_type": "markdown",
   "metadata": {},
   "source": [
    "# Preparation & EDA"
   ]
  },
  {
   "cell_type": "markdown",
   "metadata": {},
   "source": [
    "You should check :\n",
    "1. pattern of data\n",
    "2. Missing value\n",
    "3. Outliers\n",
    "4. Data value"
   ]
  },
  {
   "cell_type": "markdown",
   "metadata": {},
   "source": [
    "### Cleaning Data"
   ]
  },
  {
   "cell_type": "code",
   "execution_count": null,
   "metadata": {},
   "outputs": [],
   "source": [
    "import pandas as pd\n",
    "import seaborn as sns\n",
    "import matplotlib.pyplot as plt\n",
    "%matplotlib inline\n",
    "import numpy as np"
   ]
  },
  {
   "cell_type": "code",
   "execution_count": null,
   "metadata": {},
   "outputs": [],
   "source": [
    "path = \"netflix_titles1.csv\"\n",
    "\n",
    "#path = \"D/nama_folder/nama_file\" if your data directory is not the same with yor ipynb file\n",
    "\n",
    "data = pd.read_csv(path)\n",
    "data.head()"
   ]
  },
  {
   "cell_type": "code",
   "execution_count": null,
   "metadata": {},
   "outputs": [],
   "source": [
    "#shape of data\n",
    "data.shape"
   ]
  },
  {
   "cell_type": "code",
   "execution_count": null,
   "metadata": {},
   "outputs": [],
   "source": [
    "data.info()"
   ]
  },
  {
   "cell_type": "markdown",
   "metadata": {},
   "source": [
    "##### check missing value"
   ]
  },
  {
   "cell_type": "code",
   "execution_count": null,
   "metadata": {},
   "outputs": [],
   "source": [
    "data.isnull().sum()"
   ]
  },
  {
   "cell_type": "markdown",
   "metadata": {},
   "source": [
    "there are 2 options when there are missing value on your data\n",
    "1. change with another value\n",
    "2. remove data that contains missing value\n",
    "\n",
    "you also can call this method with manipulating data"
   ]
  },
  {
   "cell_type": "code",
   "execution_count": null,
   "metadata": {},
   "outputs": [],
   "source": [
    "data[['director', 'cast', 'country']] = data[['director', 'cast', 'country']].fillna('null')\n",
    "data['date_added'] = data['date_added'].fillna(0)\n",
    "data['rating'] = data['rating'].fillna(data['listed_in'])"
   ]
  },
  {
   "cell_type": "code",
   "execution_count": null,
   "metadata": {},
   "outputs": [],
   "source": [
    "data.head()"
   ]
  },
  {
   "cell_type": "code",
   "execution_count": null,
   "metadata": {},
   "outputs": [],
   "source": [
    "data.isnull().sum()"
   ]
  },
  {
   "cell_type": "code",
   "execution_count": null,
   "metadata": {},
   "outputs": [],
   "source": [
    "print('Type : \\n', data['type'].unique())\n",
    "print('-------------------------------------')\n",
    "print('date_added : \\n', data['date_added'].unique())\n",
    "print('-------------------------------------')\n",
    "print('release_year : \\n', data['release_year'].unique())\n",
    "print('-------------------------------------')\n",
    "print('Rating : \\n', data['rating'].unique())\n",
    "print('-------------------------------------')\n",
    "print('Genre : \\n', data['listed_in'].unique())"
   ]
  },
  {
   "cell_type": "markdown",
   "metadata": {},
   "source": [
    "### Cleaning kolom date_added"
   ]
  },
  {
   "cell_type": "code",
   "execution_count": null,
   "metadata": {},
   "outputs": [],
   "source": [
    "import re"
   ]
  },
  {
   "cell_type": "code",
   "execution_count": null,
   "metadata": {},
   "outputs": [],
   "source": [
    "test = []\n",
    "for i in data['date_added']:\n",
    "    if i != 0:\n",
    "        find_2020 = re.findall(r'[a-zA-Z]+\\s[0-9]+,\\s2020', i)\n",
    "        for j in find_2020:\n",
    "            test.append(j)\n",
    "            \n",
    "unique_test = set(test)\n",
    "unique_test"
   ]
  },
  {
   "cell_type": "code",
   "execution_count": null,
   "metadata": {},
   "outputs": [],
   "source": [
    "data['date_added'] = data['date_added'].str.replace('[a-zA-Z]+\\s[0-9]+,\\s','')\n",
    "data['date_added'] = data['date_added'].apply(lambda x: int(x) if x == x else 0)\n",
    "data['date_added'].unique()"
   ]
  },
  {
   "cell_type": "code",
   "execution_count": null,
   "metadata": {},
   "outputs": [],
   "source": [
    "data.head(2)"
   ]
  },
  {
   "cell_type": "markdown",
   "metadata": {},
   "source": [
    "untuk pengaturan warna kamu dapat memilih disini https://seaborn.pydata.org/tutorial/color_palettes.html"
   ]
  },
  {
   "cell_type": "code",
   "execution_count": null,
   "metadata": {},
   "outputs": [],
   "source": [
    "plt.figure(figsize=(10, 8))\n",
    "sns.barplot(data['date_added'].value_counts().index, data['date_added'].value_counts().values, palette='deep')\n",
    "plt.title('Perkembangan upload data pada netflix', fontsize=17)\n",
    "plt.xlabel('tahun')\n",
    "plt.ylabel('jumlah')\n",
    "plt.show()"
   ]
  },
  {
   "cell_type": "markdown",
   "metadata": {},
   "source": [
    "Karena perbedaan yang mencolok, mari kita analisa untuk taun 2016-2020"
   ]
  },
  {
   "cell_type": "code",
   "execution_count": null,
   "metadata": {},
   "outputs": [],
   "source": [
    "data['date_added'].head()"
   ]
  },
  {
   "cell_type": "code",
   "execution_count": null,
   "metadata": {},
   "outputs": [],
   "source": [
    "tahun = [2016, 2017, 2018, 2019, 2020]\n",
    "data_pop = data['date_added'].isin(tahun)\n",
    "data2 = data[data_pop]\n",
    "data2['date_added'].unique()"
   ]
  },
  {
   "cell_type": "code",
   "execution_count": null,
   "metadata": {},
   "outputs": [],
   "source": [
    "see1 = pd.crosstab(data2['date_added'], data2['type'])\n",
    "see1"
   ]
  },
  {
   "cell_type": "code",
   "execution_count": null,
   "metadata": {},
   "outputs": [],
   "source": [
    "stacked2 = see1.stack()\n",
    "stacked2"
   ]
  },
  {
   "cell_type": "code",
   "execution_count": null,
   "metadata": {},
   "outputs": [],
   "source": [
    "type(stacked2)"
   ]
  },
  {
   "cell_type": "code",
   "execution_count": null,
   "metadata": {},
   "outputs": [],
   "source": [
    "stacked = see1.stack().reset_index().rename(columns={0:'value'})"
   ]
  },
  {
   "cell_type": "code",
   "execution_count": null,
   "metadata": {},
   "outputs": [],
   "source": [
    "stacked.head()"
   ]
  },
  {
   "cell_type": "code",
   "execution_count": null,
   "metadata": {},
   "outputs": [],
   "source": [
    "type(stacked)"
   ]
  },
  {
   "cell_type": "code",
   "execution_count": null,
   "metadata": {},
   "outputs": [],
   "source": [
    "plt.figure(figsize=(10, 8))\n",
    "sns.barplot(x='date_added', y='value', data=stacked, hue='type')\n",
    "plt.title('Perkembangan kriteria dari tahun ke tahun')\n",
    "plt.show()"
   ]
  },
  {
   "cell_type": "markdown",
   "metadata": {},
   "source": [
    "### Cleaning kolom Rating"
   ]
  },
  {
   "cell_type": "markdown",
   "metadata": {},
   "source": [
    "let's now google the categories and explore them\n",
    "\n",
    "    TV-MA:This program is specifically designed to be viewed by adults and therefore may be unsuitable for children under 17.\n",
    "    TV-14:This program contains some material that many parents would find unsuitable for children under 14 years of age.\n",
    "    TV-PG:This program contains material that parents may find unsuitable for younger children.\n",
    "    R:Under 17 requires accompanying parent or adult guardian,Parents are urged to learn more about the film before taking their young children with them.\n",
    "    PG-13:Some material may be inappropriate for children under 13. Parents are urged to be cautious. Some material may be inappropriate for pre-teenagers.\n",
    "    NR or UR:If a film has not been submitted for a rating or is an uncut version of a film that was submitted\n",
    "    PG:Some material may not be suitable for children,May contain some material parents might not like for their young children.\n",
    "    TV-Y7:This program is designed for children age 7 and above.\n",
    "    TV-G:This program is suitable for all ages.\n",
    "    TV-Y:Programs rated TV-Y are designed to be appropriate for children of all ages. The thematic elements portrayed in programs with this rating are specifically designed for a very young audience, including children ages 2-6.\n",
    "    TV-Y7-FV:is recommended for ages 7 and older, with the unique advisory that the program contains fantasy violence.\n",
    "    G:All ages admitted. Nothing that would offend parents for viewing by children.\n",
    "    NC-17:No One 17 and Under Admitted. Clearly adult. Children are not admitted.\n",
    "    \n",
    "Akan dibedakan rating berdasarkan 3 ciri:\n",
    "\n",
    "1. dapat ditonton segala usia (all_ages)\n",
    "2. dibawah 17 tahun (under_17)\n",
    "3. diatas 17 tahun (17_more)"
   ]
  },
  {
   "cell_type": "code",
   "execution_count": null,
   "metadata": {},
   "outputs": [],
   "source": [
    "df = data2[data2['rating'] == 'Movies']\n",
    "df\n",
    "#kategorikan kedalam film diatas 17"
   ]
  },
  {
   "cell_type": "code",
   "execution_count": null,
   "metadata": {},
   "outputs": [],
   "source": [
    "df1 = data2[data2['rating'] == 'Dramas']\n",
    "df1\n",
    "#kategorikan kedalam 17 tahun keatas"
   ]
  },
  {
   "cell_type": "code",
   "execution_count": null,
   "metadata": {},
   "outputs": [],
   "source": [
    "df2 = data2[data2['rating'] == \"Kids' TV, TV Comedies\"]\n",
    "df2\n",
    "#dibawah 17 tahun"
   ]
  },
  {
   "cell_type": "code",
   "execution_count": null,
   "metadata": {},
   "outputs": [],
   "source": [
    "df3 = data2[data2['rating'] == \"Anime Series, International TV Shows\"]\n",
    "df3\n",
    "# semua kalangan"
   ]
  },
  {
   "cell_type": "code",
   "execution_count": null,
   "metadata": {},
   "outputs": [],
   "source": [
    "for j in data2.index:\n",
    "    all_ = ['NR', 'UR', 'TV-G', 'G', 'Anime Series, International TV Shows']\n",
    "    under_ = ['TV-Y7', 'TV-Y', 'TV-Y7-FV', \"Kids' TV, TV Comedies\"]\n",
    "    more_ = ['TV-MA', 'TV-14', 'TV-PG', 'R', 'PG-13', 'PG', 'NC-17', 'Dramas', 'Movies']\n",
    "    for i in all_:\n",
    "        if data2.loc[j,'rating']== i:\n",
    "            data2.loc[j,'rating']='all_ages'\n",
    "    for k in under_:\n",
    "        if data2.loc[j,'rating']== k:\n",
    "            data2.loc[j,'rating']='under_17'\n",
    "    for l in more_:\n",
    "        if data2.loc[j,'rating']== l:\n",
    "            data2.loc[j,'rating']='17_more'"
   ]
  },
  {
   "cell_type": "code",
   "execution_count": null,
   "metadata": {},
   "outputs": [],
   "source": [
    "data2['rating'].unique()"
   ]
  },
  {
   "cell_type": "code",
   "execution_count": null,
   "metadata": {},
   "outputs": [],
   "source": [
    "see2 = pd.crosstab(data2['type'], data2['rating'])\n",
    "see2"
   ]
  },
  {
   "cell_type": "code",
   "execution_count": null,
   "metadata": {},
   "outputs": [],
   "source": [
    "look2 = see2.stack().reset_index().rename(columns={0:'value'})"
   ]
  },
  {
   "cell_type": "code",
   "execution_count": null,
   "metadata": {},
   "outputs": [],
   "source": [
    "plt.figure(figsize=(8, 8))\n",
    "sns.barplot(x='type', y='value', data=look2, hue='rating', palette='Paired')\n",
    "plt.title('persebaran rating dalam setiap kriteria', fontsize=15)\n",
    "plt.show()"
   ]
  },
  {
   "cell_type": "markdown",
   "metadata": {},
   "source": [
    "### Cleaning kolom listed_in"
   ]
  },
  {
   "cell_type": "code",
   "execution_count": null,
   "metadata": {},
   "outputs": [],
   "source": [
    "data_movie = data2[data2['type'] == 'Movie']\n",
    "data_tv = data2[data2['type'] == 'TV Show']\n",
    "print(data_movie['type'].unique())\n",
    "print(data_tv['type'].unique())"
   ]
  },
  {
   "cell_type": "code",
   "execution_count": null,
   "metadata": {},
   "outputs": [],
   "source": [
    "data_movie['listed_in'].value_counts()"
   ]
  },
  {
   "cell_type": "code",
   "execution_count": null,
   "metadata": {},
   "outputs": [],
   "source": [
    "data_tv['listed_in'].value_counts()"
   ]
  },
  {
   "cell_type": "code",
   "execution_count": null,
   "metadata": {},
   "outputs": [],
   "source": [
    "data['listed_in'] = data.apply(lambda row: row['listed_in'].lower().split(', '), axis=1)"
   ]
  },
  {
   "cell_type": "code",
   "execution_count": null,
   "metadata": {},
   "outputs": [],
   "source": [
    "data.head()"
   ]
  },
  {
   "cell_type": "code",
   "execution_count": null,
   "metadata": {},
   "outputs": [],
   "source": [
    "movies = data['type'] == 'Movie'\n",
    "df_movies = data[movies]\n",
    "df_movies.head()"
   ]
  },
  {
   "cell_type": "code",
   "execution_count": null,
   "metadata": {},
   "outputs": [],
   "source": [
    "list_genre =[]\n",
    "for i in df_movies['listed_in']:\n",
    "    for j in i:\n",
    "        list_genre.append(j)\n",
    "        \n",
    "def unique(list_genre):\n",
    "    x = np.array(list_genre)\n",
    "    print(np.unique(x))\n",
    "unique(list_genre)"
   ]
  },
  {
   "cell_type": "code",
   "execution_count": null,
   "metadata": {},
   "outputs": [],
   "source": [
    "import collections"
   ]
  },
  {
   "cell_type": "code",
   "execution_count": null,
   "metadata": {},
   "outputs": [],
   "source": [
    "freq_kata = collections.Counter(list_genre)"
   ]
  },
  {
   "cell_type": "code",
   "execution_count": null,
   "metadata": {},
   "outputs": [],
   "source": [
    "freq_kata"
   ]
  }
 ],
 "metadata": {
  "kernelspec": {
   "display_name": "Python 3",
   "language": "python",
   "name": "python3"
  },
  "language_info": {
   "codemirror_mode": {
    "name": "ipython",
    "version": 3
   },
   "file_extension": ".py",
   "mimetype": "text/x-python",
   "name": "python",
   "nbconvert_exporter": "python",
   "pygments_lexer": "ipython3",
   "version": "3.7.5"
  }
 },
 "nbformat": 4,
 "nbformat_minor": 4
}
